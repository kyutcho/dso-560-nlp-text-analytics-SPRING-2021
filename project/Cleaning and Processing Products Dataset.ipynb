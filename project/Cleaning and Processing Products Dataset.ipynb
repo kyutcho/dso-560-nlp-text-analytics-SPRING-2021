{
 "cells": [
  {
   "cell_type": "code",
   "execution_count": 1,
   "metadata": {},
   "outputs": [
    {
     "ename": "ModuleNotFoundError",
     "evalue": "No module named 'spacy'",
     "output_type": "error",
     "traceback": [
      "\u001b[0;31m---------------------------------------------------------------------------\u001b[0m",
      "\u001b[0;31mModuleNotFoundError\u001b[0m                       Traceback (most recent call last)",
      "\u001b[0;32m<ipython-input-1-e2608d93b3f4>\u001b[0m in \u001b[0;36m<module>\u001b[0;34m\u001b[0m\n\u001b[1;32m      1\u001b[0m \u001b[0;32mimport\u001b[0m \u001b[0mpandas\u001b[0m \u001b[0;32mas\u001b[0m \u001b[0mpd\u001b[0m\u001b[0;34m\u001b[0m\u001b[0;34m\u001b[0m\u001b[0m\n\u001b[1;32m      2\u001b[0m \u001b[0;32mimport\u001b[0m \u001b[0mnumpy\u001b[0m \u001b[0;32mas\u001b[0m \u001b[0mnp\u001b[0m\u001b[0;34m\u001b[0m\u001b[0;34m\u001b[0m\u001b[0m\n\u001b[0;32m----> 3\u001b[0;31m \u001b[0;32mimport\u001b[0m \u001b[0mspacy\u001b[0m\u001b[0;34m\u001b[0m\u001b[0;34m\u001b[0m\u001b[0m\n\u001b[0m\u001b[1;32m      4\u001b[0m \u001b[0;32mimport\u001b[0m \u001b[0mnltk\u001b[0m\u001b[0;34m\u001b[0m\u001b[0;34m\u001b[0m\u001b[0m\n\u001b[1;32m      5\u001b[0m \u001b[0;32mimport\u001b[0m \u001b[0mre\u001b[0m\u001b[0;34m\u001b[0m\u001b[0;34m\u001b[0m\u001b[0m\n",
      "\u001b[0;31mModuleNotFoundError\u001b[0m: No module named 'spacy'"
     ]
    }
   ],
   "source": [
    "import pandas as pd\n",
    "import numpy as np\n",
    "import spacy\n",
    "import nltk\n",
    "import re"
   ]
  },
  {
   "cell_type": "code",
   "execution_count": 294,
   "metadata": {},
   "outputs": [],
   "source": [
    "#read in data\n",
    "behold_products = pd.read_excel('Behold+product+data+04262021.xlsx',header = 0)\n",
    "attr_tags = pd.read_csv('usc_additional_tags.csv')"
   ]
  },
  {
   "cell_type": "markdown",
   "metadata": {},
   "source": [
    "### Format Attribute Data\n",
    "\n",
    "- created one row for each unique product_id\n",
    "- replaced missing features with unknown"
   ]
  },
  {
   "cell_type": "code",
   "execution_count": 295,
   "metadata": {},
   "outputs": [],
   "source": [
    "#pivot df\n",
    "grouped_tags = pd.DataFrame(attr_tags.groupby(['product_id','attribute_name'])\n",
    "                            .attribute_value.apply(lambda x:\" \".join(set(x)))).reset_index()\n",
    "\n",
    "pivoted_tags = grouped_tags.pivot(index='product_id',columns=['attribute_name'],values='attribute_value').reset_index()\n",
    "pivoted_tags.fillna('unknown',inplace=True)"
   ]
  },
  {
   "cell_type": "code",
   "execution_count": 296,
   "metadata": {},
   "outputs": [
    {
     "data": {
      "text/html": [
       "<div>\n",
       "<style scoped>\n",
       "    .dataframe tbody tr th:only-of-type {\n",
       "        vertical-align: middle;\n",
       "    }\n",
       "\n",
       "    .dataframe tbody tr th {\n",
       "        vertical-align: top;\n",
       "    }\n",
       "\n",
       "    .dataframe thead th {\n",
       "        text-align: right;\n",
       "    }\n",
       "</style>\n",
       "<table border=\"1\" class=\"dataframe\">\n",
       "  <thead>\n",
       "    <tr style=\"text-align: right;\">\n",
       "      <th>attribute_name</th>\n",
       "      <th>product_id</th>\n",
       "      <th>additionalcolor</th>\n",
       "      <th>beltbucklematerial</th>\n",
       "      <th>beltbuckleshape</th>\n",
       "      <th>beltclosure</th>\n",
       "      <th>beltmaterial</th>\n",
       "      <th>beltwidth</th>\n",
       "      <th>calfwidth</th>\n",
       "      <th>category</th>\n",
       "      <th>classbelts</th>\n",
       "      <th>...</th>\n",
       "      <th>subcategorysweater</th>\n",
       "      <th>subcategorysweatshirtandhoodie</th>\n",
       "      <th>subcategorytop</th>\n",
       "      <th>sunglassframematerial</th>\n",
       "      <th>sweatshirtandhoodieclosure</th>\n",
       "      <th>toeexposure</th>\n",
       "      <th>toestyle</th>\n",
       "      <th>trend</th>\n",
       "      <th>uppermaterial</th>\n",
       "      <th>wash</th>\n",
       "    </tr>\n",
       "  </thead>\n",
       "  <tbody>\n",
       "    <tr>\n",
       "      <th>3068</th>\n",
       "      <td>01E4RV4R1FT9Y4825X72Q5YV8Z</td>\n",
       "      <td>whites</td>\n",
       "      <td>unknown</td>\n",
       "      <td>unknown</td>\n",
       "      <td>unknown</td>\n",
       "      <td>unknown</td>\n",
       "      <td>unknown</td>\n",
       "      <td>unknown</td>\n",
       "      <td>top</td>\n",
       "      <td>unknown</td>\n",
       "      <td>...</td>\n",
       "      <td>unknown</td>\n",
       "      <td>unknown</td>\n",
       "      <td>buttondown</td>\n",
       "      <td>unknown</td>\n",
       "      <td>unknown</td>\n",
       "      <td>unknown</td>\n",
       "      <td>unknown</td>\n",
       "      <td>unknown</td>\n",
       "      <td>unknown</td>\n",
       "      <td>unknown</td>\n",
       "    </tr>\n",
       "    <tr>\n",
       "      <th>2823</th>\n",
       "      <td>01E4ED60R8KHJ6178M3XSBVT27</td>\n",
       "      <td>whites</td>\n",
       "      <td>unknown</td>\n",
       "      <td>unknown</td>\n",
       "      <td>unknown</td>\n",
       "      <td>unknown</td>\n",
       "      <td>unknown</td>\n",
       "      <td>unknown</td>\n",
       "      <td>top</td>\n",
       "      <td>unknown</td>\n",
       "      <td>...</td>\n",
       "      <td>unknown</td>\n",
       "      <td>unknown</td>\n",
       "      <td>knit</td>\n",
       "      <td>unknown</td>\n",
       "      <td>unknown</td>\n",
       "      <td>unknown</td>\n",
       "      <td>unknown</td>\n",
       "      <td>unknown</td>\n",
       "      <td>unknown</td>\n",
       "      <td>unknown</td>\n",
       "    </tr>\n",
       "    <tr>\n",
       "      <th>2354</th>\n",
       "      <td>01E2P1C1DE194MSMHHA199YX7F</td>\n",
       "      <td>unknown</td>\n",
       "      <td>unknown</td>\n",
       "      <td>unknown</td>\n",
       "      <td>unknown</td>\n",
       "      <td>unknown</td>\n",
       "      <td>unknown</td>\n",
       "      <td>unknown</td>\n",
       "      <td>bottom</td>\n",
       "      <td>unknown</td>\n",
       "      <td>...</td>\n",
       "      <td>unknown</td>\n",
       "      <td>unknown</td>\n",
       "      <td>unknown</td>\n",
       "      <td>unknown</td>\n",
       "      <td>unknown</td>\n",
       "      <td>unknown</td>\n",
       "      <td>unknown</td>\n",
       "      <td>unknown</td>\n",
       "      <td>unknown</td>\n",
       "      <td>unknown</td>\n",
       "    </tr>\n",
       "    <tr>\n",
       "      <th>151</th>\n",
       "      <td>01DPH126VRWE7ENM47QZTPC43V</td>\n",
       "      <td>unknown</td>\n",
       "      <td>unknown</td>\n",
       "      <td>unknown</td>\n",
       "      <td>unknown</td>\n",
       "      <td>unknown</td>\n",
       "      <td>unknown</td>\n",
       "      <td>unknown</td>\n",
       "      <td>accessory</td>\n",
       "      <td>unknown</td>\n",
       "      <td>...</td>\n",
       "      <td>unknown</td>\n",
       "      <td>unknown</td>\n",
       "      <td>unknown</td>\n",
       "      <td>unknown</td>\n",
       "      <td>unknown</td>\n",
       "      <td>unknown</td>\n",
       "      <td>unknown</td>\n",
       "      <td>unknown</td>\n",
       "      <td>unknown</td>\n",
       "      <td>unknown</td>\n",
       "    </tr>\n",
       "    <tr>\n",
       "      <th>1338</th>\n",
       "      <td>01E2KW8EV2W4J8SXK6J3VZNPE1</td>\n",
       "      <td>unknown</td>\n",
       "      <td>unknown</td>\n",
       "      <td>unknown</td>\n",
       "      <td>unknown</td>\n",
       "      <td>unknown</td>\n",
       "      <td>unknown</td>\n",
       "      <td>unknown</td>\n",
       "      <td>blazerscoatsjackets</td>\n",
       "      <td>unknown</td>\n",
       "      <td>...</td>\n",
       "      <td>unknown</td>\n",
       "      <td>unknown</td>\n",
       "      <td>unknown</td>\n",
       "      <td>unknown</td>\n",
       "      <td>unknown</td>\n",
       "      <td>unknown</td>\n",
       "      <td>unknown</td>\n",
       "      <td>unknown</td>\n",
       "      <td>unknown</td>\n",
       "      <td>unknown</td>\n",
       "    </tr>\n",
       "  </tbody>\n",
       "</table>\n",
       "<p>5 rows × 87 columns</p>\n",
       "</div>"
      ],
      "text/plain": [
       "attribute_name                  product_id additionalcolor beltbucklematerial  \\\n",
       "3068            01E4RV4R1FT9Y4825X72Q5YV8Z          whites            unknown   \n",
       "2823            01E4ED60R8KHJ6178M3XSBVT27          whites            unknown   \n",
       "2354            01E2P1C1DE194MSMHHA199YX7F         unknown            unknown   \n",
       "151             01DPH126VRWE7ENM47QZTPC43V         unknown            unknown   \n",
       "1338            01E2KW8EV2W4J8SXK6J3VZNPE1         unknown            unknown   \n",
       "\n",
       "attribute_name beltbuckleshape beltclosure beltmaterial beltwidth calfwidth  \\\n",
       "3068                   unknown     unknown      unknown   unknown   unknown   \n",
       "2823                   unknown     unknown      unknown   unknown   unknown   \n",
       "2354                   unknown     unknown      unknown   unknown   unknown   \n",
       "151                    unknown     unknown      unknown   unknown   unknown   \n",
       "1338                   unknown     unknown      unknown   unknown   unknown   \n",
       "\n",
       "attribute_name             category classbelts  ... subcategorysweater  \\\n",
       "3068                            top    unknown  ...            unknown   \n",
       "2823                            top    unknown  ...            unknown   \n",
       "2354                         bottom    unknown  ...            unknown   \n",
       "151                       accessory    unknown  ...            unknown   \n",
       "1338            blazerscoatsjackets    unknown  ...            unknown   \n",
       "\n",
       "attribute_name subcategorysweatshirtandhoodie subcategorytop  \\\n",
       "3068                                  unknown     buttondown   \n",
       "2823                                  unknown           knit   \n",
       "2354                                  unknown        unknown   \n",
       "151                                   unknown        unknown   \n",
       "1338                                  unknown        unknown   \n",
       "\n",
       "attribute_name sunglassframematerial sweatshirtandhoodieclosure toeexposure  \\\n",
       "3068                         unknown                    unknown     unknown   \n",
       "2823                         unknown                    unknown     unknown   \n",
       "2354                         unknown                    unknown     unknown   \n",
       "151                          unknown                    unknown     unknown   \n",
       "1338                         unknown                    unknown     unknown   \n",
       "\n",
       "attribute_name toestyle    trend uppermaterial     wash  \n",
       "3068            unknown  unknown       unknown  unknown  \n",
       "2823            unknown  unknown       unknown  unknown  \n",
       "2354            unknown  unknown       unknown  unknown  \n",
       "151             unknown  unknown       unknown  unknown  \n",
       "1338            unknown  unknown       unknown  unknown  \n",
       "\n",
       "[5 rows x 87 columns]"
      ]
     },
     "execution_count": 296,
     "metadata": {},
     "output_type": "execute_result"
    }
   ],
   "source": [
    "pivoted_tags.sample(5)"
   ]
  },
  {
   "cell_type": "markdown",
   "metadata": {},
   "source": [
    "### Tokeninze Current Features\n",
    "\n",
    "- using spacy find the lemma of each word in the description, brand_name, and name columns\n",
    "- adjust custom stopwords for later feature engineering\n",
    "- filter stopwords using regex and spacy predefined stopwords\n",
    "- filter our punctuation, special characters, etc with regex\n",
    "- rebuilt new tokenized columns"
   ]
  },
  {
   "cell_type": "code",
   "execution_count": 297,
   "metadata": {},
   "outputs": [
    {
     "data": {
      "text/plain": [
       "'ibi slip raw red knit sneaker women'"
      ]
     },
     "execution_count": 297,
     "metadata": {},
     "output_type": "execute_result"
    }
   ],
   "source": [
    "#function to tokenize columns, removing stopwords and returning lemmas\n",
    "nlp = spacy.load(\"en_core_web_md\", disable=['ner', 'parser', \"tok2vec\"])\n",
    "nlp.vocab[\"made\"].is_stop = False\n",
    "nlp.vocab[\"in\"].is_stop = False\n",
    "nlp.vocab[\"one\"].is_stop = False\n",
    "nlp.vocab[\"two\"].is_stop = False\n",
    "\n",
    "def spacy_tokens(line):\n",
    "    line = re.findall('(?u)\\\\b[a-zA-Z][a-zA-Z]+\\\\b',str(line))\n",
    "    doc = nlp(\" \".join(line))\n",
    "    return \" \".join([token.lemma_.lower() for token in doc if token.is_stop != True])\n",
    "    \n",
    "spacy_tokens('IBI Slip On Raw Red Knit Sneaker Women')"
   ]
  },
  {
   "cell_type": "code",
   "execution_count": 298,
   "metadata": {},
   "outputs": [],
   "source": [
    "#build token columns\n",
    "df_cols = ['description','brand_name','name']\n",
    "\n",
    "#runs a little slow\n",
    "def token_builder(df,df_cols):\n",
    "    for i in df_cols:\n",
    "        print('parsing token_'+i)\n",
    "        df['token_'+i] = df[i].apply(spacy_tokens)\n",
    "        \n"
   ]
  },
  {
   "cell_type": "code",
   "execution_count": 299,
   "metadata": {},
   "outputs": [
    {
     "name": "stdout",
     "output_type": "stream",
     "text": [
      "parsing token_description\n",
      "parsing token_brand_name\n",
      "parsing token_name\n",
      "Wall time: 5min 31s\n"
     ]
    }
   ],
   "source": [
    "%%time\n",
    "token_builder(behold_products,df_cols)"
   ]
  },
  {
   "cell_type": "code",
   "execution_count": 300,
   "metadata": {},
   "outputs": [],
   "source": [
    "behold_products['tokens'] = behold_products['token_name'] + ' ' +behold_products['token_description']"
   ]
  },
  {
   "cell_type": "markdown",
   "metadata": {},
   "source": [
    "### Build new Features\n",
    "\n",
    "- stem_join to create regex pattern to search for\n",
    "- use the top attributes from the attribute data to create new search patterns\n",
    "- add custom stopwords to colors, products\n",
    "- build new features based on each pattern"
   ]
  },
  {
   "cell_type": "code",
   "execution_count": 435,
   "metadata": {},
   "outputs": [],
   "source": [
    "#identify colors and products\n",
    "#from hw 3\n",
    "#nlp.vocab[\"one\"].is_stop = False\n",
    "#nlp.vocab[\"two\"].is_stop = False\n",
    "\n",
    "def stem_join(list):\n",
    "    doc = nlp(\" \".join(list))\n",
    "    list = [token.lemma_.lower() for token in doc]\n",
    "    list = '|'.join(r\"\\b{}s?\\b\".format(x) for x in list) #from stackoverflow\n",
    "    return list"
   ]
  },
  {
   "cell_type": "code",
   "execution_count": 436,
   "metadata": {},
   "outputs": [
    {
     "data": {
      "text/plain": [
       "Index(['category', 'primarycolor', 'style', 'occasion', 'gender', 'fit',\n",
       "       'sizing', 'materialclothing', 'drycleanonly', 'sleevelength',\n",
       "       'neckline', 'additionalcolor', 'lengthtop', 'pattern'],\n",
       "      dtype='object', name='attribute_name')"
      ]
     },
     "execution_count": 436,
     "metadata": {},
     "output_type": "execute_result"
    }
   ],
   "source": [
    "top_attributes = (pivoted_tags != 'unknown').apply(sum).sort_values(ascending=False)[1:15].index\n",
    "top_attributes"
   ]
  },
  {
   "cell_type": "code",
   "execution_count": 437,
   "metadata": {},
   "outputs": [],
   "source": [
    "top_attr_dict = {}\n",
    "for i in top_attributes[:15]:\n",
    "    vals = list(pivoted_tags[i].unique())\n",
    "    doc = nlp(\" \".join(vals))\n",
    "    vals = list(set([i.lemma_ for i in doc]))\n",
    "    vals.remove('unknown')\n",
    "\n",
    "    top_attr_dict['lemma_'+i] = vals"
   ]
  },
  {
   "cell_type": "code",
   "execution_count": 438,
   "metadata": {},
   "outputs": [],
   "source": [
    "#add custom occasions\n",
    "top_attr_dict['lemma_occasion'].extend(['wedding','formal','holiday','beach','hiking'])\n",
    "\n",
    "#create seasons\n",
    "top_attr_dict['lemma_seasons'] = ['summer','winter','spring','fall','autumn']\n",
    "\n",
    "#dry clean pattern\n",
    "dry_clean = r'(\\s?dry\\s?clean\\s?)'"
   ]
  },
  {
   "cell_type": "code",
   "execution_count": 459,
   "metadata": {},
   "outputs": [],
   "source": [
    "#custom terms\n",
    "products =  ['Bottom','tank','backpack','capri','Shoe','Handbag','Scarf','skirt','hoodie','jacket','coat','pajamas', 'blazer','shirt','cardigan','bootie','sandal','glasses', \n",
    "            'dress','top','blouse','bag','purse','earring','lingerie','bra','jewelry','pants','jewelry','accessories','romper','tee','shorts','sweatpant','glasses','sunglasses','shades',\n",
    "           'jeans','jean','belt','raincoat','outerwear','hat','sneaker','heels','pumps','camisole','outerwear','sweater','cap','sweatshirt','boot','chino','short','trouser','swimsuit']\n",
    "\n",
    "colors = ['Beige','Black','Blue','Brown','Burgundy','Gold','Gray','Green','Multi','Navy','Neutral','Orange','Pink','Purple','Red','Silver','Teal','White','Yellow','leopard','striped','plaid','floral']\n",
    "\n",
    "#add custom colors,products from hw3\n",
    "top_attr_dict['lemma_category'].extend(products)\n",
    "top_attr_dict['lemma_primarycolor'].extend(colors)\n"
   ]
  },
  {
   "cell_type": "code",
   "execution_count": 460,
   "metadata": {},
   "outputs": [],
   "source": [
    "#function to create features from attr data\n",
    "lemma = ['lemma_primarycolor','lemma_occasion','lemma_style','lemma_pattern','lemma_seasons']\n",
    "col = ['colors','occasion','style','patterns','seasons']  \n",
    "\n",
    "for i,j in zip(col,lemma):\n",
    "    regex_pattern = stem_join(top_attr_dict[j])\n",
    "    behold_products[i] = behold_products['tokens'].str.findall(regex_pattern)"
   ]
  },
  {
   "cell_type": "code",
   "execution_count": 461,
   "metadata": {},
   "outputs": [],
   "source": [
    "#grab products\n",
    "products = stem_join(top_attr_dict['lemma_category']) +'|\\\\bone ?piece\\\\b' + '|\\\\btwo ?piece\\\\b' \n",
    "behold_products['product type'] = behold_products['token_name'].str.findall(products)\n",
    "behold_products['product_mentions'] = behold_products['tokens'].str.findall(products)\n",
    "\n",
    "#decided to allow duplicates since the below selection process uses the most common occurring product to identify the category\n",
    "#behold_products['product_mentions'] = behold_products['product_mentions'].apply(lambda x: list(set(x))) \n",
    "\n",
    "#create dry clean only column\n",
    "behold_products['dry_clean_only'] = behold_products['tokens'].str.findall(dry_clean)"
   ]
  },
  {
   "cell_type": "code",
   "execution_count": 462,
   "metadata": {},
   "outputs": [],
   "source": [
    "from collections import Counter\n",
    "def my_mode(x):\n",
    "    c = Counter(x)\n",
    "    m = [k for k, v in c.items() if v == c.most_common(1)[0][1]]\n",
    "    if len(m)>1:\n",
    "        return [m[0]]\n",
    "    else:\n",
    "        return m\n"
   ]
  },
  {
   "cell_type": "code",
   "execution_count": 463,
   "metadata": {},
   "outputs": [],
   "source": [
    "#capture product and add complimentary column\n",
    "behold_products['product_category'] = behold_products['product type'] + behold_products['product_mentions']\n",
    "behold_products['complimentary_product'] = behold_products['product_category'].apply(lambda x: [i for i in x if i not in my_mode(x)])\n",
    "behold_products['product_category'] = behold_products['product_category'].apply(my_mode)"
   ]
  },
  {
   "cell_type": "code",
   "execution_count": 464,
   "metadata": {
    "scrolled": true
   },
   "outputs": [
    {
     "data": {
      "text/html": [
       "<div>\n",
       "<style scoped>\n",
       "    .dataframe tbody tr th:only-of-type {\n",
       "        vertical-align: middle;\n",
       "    }\n",
       "\n",
       "    .dataframe tbody tr th {\n",
       "        vertical-align: top;\n",
       "    }\n",
       "\n",
       "    .dataframe thead th {\n",
       "        text-align: right;\n",
       "    }\n",
       "</style>\n",
       "<table border=\"1\" class=\"dataframe\">\n",
       "  <thead>\n",
       "    <tr style=\"text-align: right;\">\n",
       "      <th></th>\n",
       "      <th>brand</th>\n",
       "      <th>token_description</th>\n",
       "      <th>token_name</th>\n",
       "      <th>product_category</th>\n",
       "      <th>style</th>\n",
       "      <th>occasion</th>\n",
       "      <th>seasons</th>\n",
       "      <th>patterns</th>\n",
       "      <th>dry_clean_only</th>\n",
       "      <th>colors</th>\n",
       "      <th>complimentary_product</th>\n",
       "    </tr>\n",
       "  </thead>\n",
       "  <tbody>\n",
       "    <tr>\n",
       "      <th>46376</th>\n",
       "      <td>J.Crew</td>\n",
       "      <td>made in italy orsay pumps shoe closet staple</td>\n",
       "      <td>lucie suede pumps</td>\n",
       "      <td>pumps</td>\n",
       "      <td>unknown</td>\n",
       "      <td>unknown</td>\n",
       "      <td>unknown</td>\n",
       "      <td>unknown</td>\n",
       "      <td>unknown</td>\n",
       "      <td>unknown</td>\n",
       "      <td>shoe</td>\n",
       "    </tr>\n",
       "    <tr>\n",
       "      <th>57678</th>\n",
       "      <td>ASTR the Label</td>\n",
       "      <td>nan</td>\n",
       "      <td>bubble hem short sleeve</td>\n",
       "      <td>short</td>\n",
       "      <td>unknown</td>\n",
       "      <td>unknown</td>\n",
       "      <td>unknown</td>\n",
       "      <td>unknown</td>\n",
       "      <td>unknown</td>\n",
       "      <td>unknown</td>\n",
       "      <td>unknown</td>\n",
       "    </tr>\n",
       "    <tr>\n",
       "      <th>42588</th>\n",
       "      <td>7 For All Mankind</td>\n",
       "      <td>nan</td>\n",
       "      <td>skinny paxtyn</td>\n",
       "      <td>unknown</td>\n",
       "      <td>unknown</td>\n",
       "      <td>unknown</td>\n",
       "      <td>unknown</td>\n",
       "      <td>unknown</td>\n",
       "      <td>unknown</td>\n",
       "      <td>unknown</td>\n",
       "      <td>unknown</td>\n",
       "    </tr>\n",
       "    <tr>\n",
       "      <th>31075</th>\n",
       "      <td>Cynthia Rowley</td>\n",
       "      <td>floral print cotton smocked blouse puff sleeve...</td>\n",
       "      <td>alexa smocked cotton blouse</td>\n",
       "      <td>blouse</td>\n",
       "      <td>unknown</td>\n",
       "      <td>unknown</td>\n",
       "      <td>unknown</td>\n",
       "      <td>floral</td>\n",
       "      <td>dry clean</td>\n",
       "      <td>floral</td>\n",
       "      <td>unknown</td>\n",
       "    </tr>\n",
       "    <tr>\n",
       "      <th>16263</th>\n",
       "      <td>Studio 189</td>\n",
       "      <td>product details cotton grown in ghana slim fit...</td>\n",
       "      <td>yellow brown cotton mechanic jumpsuit</td>\n",
       "      <td>unknown</td>\n",
       "      <td>classic</td>\n",
       "      <td>unknown</td>\n",
       "      <td>unknown</td>\n",
       "      <td>unknown</td>\n",
       "      <td>unknown</td>\n",
       "      <td>brown yellow</td>\n",
       "      <td>unknown</td>\n",
       "    </tr>\n",
       "  </tbody>\n",
       "</table>\n",
       "</div>"
      ],
      "text/plain": [
       "                   brand                                  token_description  \\\n",
       "46376             J.Crew       made in italy orsay pumps shoe closet staple   \n",
       "57678     ASTR the Label                                                nan   \n",
       "42588  7 For All Mankind                                                nan   \n",
       "31075     Cynthia Rowley  floral print cotton smocked blouse puff sleeve...   \n",
       "16263         Studio 189  product details cotton grown in ghana slim fit...   \n",
       "\n",
       "                                  token_name product_category    style  \\\n",
       "46376                      lucie suede pumps            pumps  unknown   \n",
       "57678                bubble hem short sleeve            short  unknown   \n",
       "42588                          skinny paxtyn          unknown  unknown   \n",
       "31075            alexa smocked cotton blouse           blouse  unknown   \n",
       "16263  yellow brown cotton mechanic jumpsuit          unknown  classic   \n",
       "\n",
       "      occasion  seasons patterns dry_clean_only        colors  \\\n",
       "46376  unknown  unknown  unknown        unknown       unknown   \n",
       "57678  unknown  unknown  unknown        unknown       unknown   \n",
       "42588  unknown  unknown  unknown        unknown       unknown   \n",
       "31075  unknown  unknown   floral     dry clean         floral   \n",
       "16263  unknown  unknown  unknown        unknown  brown yellow   \n",
       "\n",
       "      complimentary_product  \n",
       "46376                  shoe  \n",
       "57678               unknown  \n",
       "42588               unknown  \n",
       "31075               unknown  \n",
       "16263               unknown  "
      ]
     },
     "execution_count": 464,
     "metadata": {},
     "output_type": "execute_result"
    }
   ],
   "source": [
    "pd.options.mode.chained_assignment = None\n",
    "model_data=behold_products[['brand','token_description','token_name','product_category','style','occasion','seasons','patterns','dry_clean_only','colors','complimentary_product']]\n",
    "\n",
    "for col in model_data.loc[:,'product_category':]:\n",
    "    model_data[col] = model_data.loc[:,col].apply(lambda x:\" \".join(set(x)) if len(x)>0 else 'unknown')\n",
    "    \n",
    "model_data.sample(5)"
   ]
  },
  {
   "cell_type": "markdown",
   "metadata": {},
   "source": [
    "### Results from Feature Engineering\n",
    "\n",
    "- captures approx 40k product categories\n",
    "- decent captures on colors\n",
    "- around 8k-10k for styles, patterns, and dry cleaning"
   ]
  },
  {
   "cell_type": "code",
   "execution_count": 465,
   "metadata": {},
   "outputs": [
    {
     "name": "stdout",
     "output_type": "stream",
     "text": [
      "product_category  captures:  41125\n",
      "style  captures:  10413\n",
      "occasion  captures:  4188\n",
      "seasons  captures:  4859\n",
      "patterns  captures:  9494\n",
      "dry_clean_only  captures:  8451\n",
      "colors  captures:  23154\n",
      "complimentary_product  captures:  14816\n"
     ]
    }
   ],
   "source": [
    "#function to calculate number of new known features\n",
    "def captures(df,col):\n",
    "    return sum(df[col].apply(len)>0)\n",
    "\n",
    "new_features = ['product_category','style','occasion','seasons','patterns','dry_clean_only','colors','complimentary_product']\n",
    "for i in new_features:\n",
    "    print(i,' captures: ',captures(behold_products,i))"
   ]
  }
 ],
 "metadata": {
  "kernelspec": {
   "display_name": "Python 3",
   "language": "python",
   "name": "python3"
  },
  "language_info": {
   "codemirror_mode": {
    "name": "ipython",
    "version": 3
   },
   "file_extension": ".py",
   "mimetype": "text/x-python",
   "name": "python",
   "nbconvert_exporter": "python",
   "pygments_lexer": "ipython3",
   "version": "3.8.5"
  }
 },
 "nbformat": 4,
 "nbformat_minor": 5
}
