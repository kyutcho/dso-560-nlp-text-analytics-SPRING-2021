{
 "cells": [
  {
   "cell_type": "markdown",
   "metadata": {},
   "source": [
    "# Homework 1 (Due Tuesday, March 30th, 2021 at 6:29pm PST)\n",
    "\n",
    "Every day late is -10%.\n",
    "\n",
    "You are a business analyst working for a major US toy retailer:\n",
    "\n",
    "* A manager in the marketing department wants to find out the most frequently used words in positive reviews (five stars) and negative reviews (one star) in order to determine what occasion the toys are purchased for (Christmas, birthdays, and anniversaries.). He would like your opinion on **which gift occasions (Christmas, birthdays, or anniversaries) tend to have the most positive reviews** to focus marketing budget on those days.\n",
    "\n",
    "* There are malformed characters in the review text. For instance, notice the `&#34;` - these are examples of incorrectly decoded [HTML encodings](https://krypted.com/utilities/html-encoding-reference/).\n",
    "```\n",
    "\"amazing quality first of all, these cards are amazing proxies (but don't try to use em in &#34;official duels&#34; unless a judge is okay with it, if you have the real thing to show) and look amazing in your binder!\"\n",
    "```\n",
    "Please clean up all instances of these incorrect decodings.\n",
    "\n",
    "* One of your product managers suspects that **toys purchased for male recipients (husbands, sons, etc.)** tend to be much more likely to be reviewed poorly. She would like to see some data points confirming or rejecting her hypothesis. \n",
    "\n",
    "* Use **regular expressions to parse out all references to recipients and gift occassions**, and account for the possibility that people may spell words \"son\" / \"children\" / \"Christmas\" as both singular and plural, upper or lower-cased.\n",
    "\n",
    "* Explain what some of **pitfalls/limitations** are of using only a word count analysis to make these inferences. What additional research/steps would you need to do to verify your conclusions?\n",
    "\n",
    "* **Create a simple text file that contains 2-3 lines at most describing yourself, your background, and interests. It must contain at least 1 emoji and 4-5 international characters (non-ASCII)**. Make sure to properly encode the file so that I can open it in `UTF-8` to read. I must be able to read all characters properly. Attach it to your submission.\n",
    "\n",
    "Perform the same word count analysis using the reviews received from Amazon to answer your marketing manager's question. They are stored in two files, (`poor_amazon_toy_reviews.txt`) and (`good-amazon-toy-reviews.txt`). **Provide a few sentences with your findings and business recommendations.** Make any assumptions you'd like to- this is a fictitious company after all. I just want you to get into the habit of \"finishing\" your analysis: to avoid delivering technical numbers to a non-technical manager.\n",
    "\n",
    "**Submit everything as a new notebook and Slack direct message to me (Yu Chen) and the TA the HW as an attachment.**\n",
    "\n",
    "**NOTE**: Name the notebook `lastname_firstname_HW1.ipynb`."
   ]
  },
  {
   "cell_type": "code",
   "execution_count": 1,
   "metadata": {},
   "outputs": [],
   "source": [
    "import numpy as np\n",
    "import pandas as pd\n",
    "import matplotlib.pyplot as plt\n",
    "import seaborn as sns\n",
    "\n",
    "import re"
   ]
  },
  {
   "cell_type": "code",
   "execution_count": 34,
   "metadata": {},
   "outputs": [],
   "source": [
    "with open(\"poor_amazon_toy_reviews.txt\",'r', encoding=\"utf8\") as fh:\n",
    "     amz_poor_reviews = fh.readlines()"
   ]
  },
  {
   "cell_type": "code",
   "execution_count": 35,
   "metadata": {},
   "outputs": [],
   "source": [
    "with open(\"good_amazon_toy_reviews.txt\",'r', encoding=\"utf8\") as fh:\n",
    "     amz_good_reviews = fh.readlines()"
   ]
  },
  {
   "cell_type": "code",
   "execution_count": 36,
   "metadata": {},
   "outputs": [
    {
     "name": "stdout",
     "output_type": "stream",
     "text": [
      "Num poor reviews: 12700 \n",
      "Num good reviews: 102217\n"
     ]
    }
   ],
   "source": [
    "print(f\"Num poor reviews: {len(amz_poor_reviews)} \\nNum good reviews: {len(amz_good_reviews)}\")"
   ]
  },
  {
   "cell_type": "code",
   "execution_count": 37,
   "metadata": {},
   "outputs": [],
   "source": [
    "# Make all lowercase\n",
    "amz_poor_reviews = [x.lower() for x in amz_poor_reviews]\n",
    "amz_good_reviews = [x.lower() for x in amz_good_reviews]"
   ]
  },
  {
   "cell_type": "markdown",
   "metadata": {},
   "source": [
    "* There are malformed characters in the review text. For instance, notice the `&#34;` - these are examples of incorrectly decoded [HTML encodings](https://krypted.com/utilities/html-encoding-reference/).\n",
    "```\n",
    "\"amazing quality first of all, these cards are amazing proxies (but don't try to use em in &#34;official duels&#34; unless a judge is okay with it, if you have the real thing to show) and look amazing in your binder!\"\n",
    "```\n",
    "Please clean up all instances of these incorrect decodings."
   ]
  },
  {
   "cell_type": "code",
   "execution_count": 44,
   "metadata": {},
   "outputs": [
    {
     "name": "stdout",
     "output_type": "stream",
     "text": [
      "0 0\n"
     ]
    }
   ],
   "source": [
    "a, b = 0, 0\n",
    "\n",
    "# remove newline and decoded HTML encoding\n",
    "for i in range(len(amz_poor_reviews)):\n",
    "    if re.search('[\\b]*<br>[\\b]*', amz_poor_reviews[i]):\n",
    "        a += 1\n",
    "    \n",
    "for i in range(len(amz_good_reviews)):\n",
    "    if re.search('[\\b]*<br>[\\b]*', amz_good_reviews[i]):\n",
    "        b += 1\n",
    "        \n",
    "print(a, b)"
   ]
  },
  {
   "cell_type": "markdown",
   "metadata": {},
   "source": [
    "No Linebreak"
   ]
  },
  {
   "cell_type": "code",
   "execution_count": 45,
   "metadata": {},
   "outputs": [],
   "source": [
    "# remove newline and decoded HTML encoding\n",
    "for i in range(len(amz_poor_reviews)):\n",
    "    amz_poor_reviews[i] = re.sub('\\n', '', amz_poor_reviews[i])\n",
    "    amz_poor_reviews[i] = re.sub('[\\b]*&#\\d+[\\b]*;', '', amz_poor_reviews[i])\n",
    "    \n",
    "for i in range(len(amz_good_reviews)):\n",
    "    amz_good_reviews[i] = re.sub('\\n', '', amz_good_reviews[i])\n",
    "    amz_good_reviews[i] = re.sub('[\\b]*&#\\d+[\\b]*;', '', amz_good_reviews[i])    "
   ]
  },
  {
   "cell_type": "code",
   "execution_count": 46,
   "metadata": {},
   "outputs": [],
   "source": [
    "# Good reviews\n",
    "\n",
    "amz_good_reviews_df = pd.DataFrame(amz_good_reviews, columns=[\"reviews\"])\n",
    "\n",
    "# Find occasions\n",
    "amz_good_reviews_df[\"occasions\"] = amz_good_reviews_df[\"reviews\"].str.findall(r\"(birthday)s?|(anniversar)\\w+|(christmas)\\w*\")\n",
    "\n",
    "# Find Male Recepient\n",
    "amz_good_reviews_df[\"m_recepient\"] = amz_good_reviews_df[\"reviews\"].str.findall(r\"(sons?|boys?|grand(sons|pas?|pops?|fathers?)|fathers?|dad(dy)?|uncles?|brothers?|males?|husbands?)\")\n",
    "\n",
    "# Find Female Recepient\n",
    "amz_good_reviews_df[\"f_recepient\"] = amz_good_reviews_df[\"reviews\"].str.findall(r\"(daughters?|girls?|grand(daughters|mas?|moms?|mothers?)|mothers?|mom(my)?|aunts?|sisters?|females?|wi(fe|ves))\")\n",
    "\n",
    "# Find toys\n",
    "amz_good_reviews_df[\"toys\"] = amz_good_reviews_df[\"reviews\"].str.findall(r\"[\\b]*(toy)s?[\\b]*\")\n",
    "\n",
    "# Clean recepients\n",
    "amz_good_reviews_df[\"m_recepient\"] = amz_good_reviews_df[\"m_recepient\"].apply(lambda x: \"Male\" if len(x) != 0 else '')\n",
    "amz_good_reviews_df[\"f_recepient\"] = amz_good_reviews_df[\"f_recepient\"].apply(lambda x: \"Female\" if len(x) != 0 else '')\n",
    "\n",
    "# amz_good_reviews_df[\"m_recepient\"] = np.where(amz_good_reviews_df[\"m_recepient\"] == \"Male\", amz_good_reviews_df[\"m_recepient\"], \"\")\n",
    "# amz_good_reviews_df[\"f_recepient\"] = np.where(amz_good_reviews_df[\"f_recepient\"] == \"Female\", amz_good_reviews_df[\"f_recepient\"], \"\")\n",
    "\n",
    "amz_good_reviews_df[\"recepient\"] = amz_good_reviews_df[\"m_recepient\"]+amz_good_reviews_df[\"f_recepient\"]\n",
    "\n",
    "# Clean occassions\n",
    "# amz_good_reviews_df = amz_good_reviews_df[amz_good_reviews_df[\"occasions\"].apply(lambda x: len(x) != 0)].reset_index(drop=True)\n",
    "# amz_good_reviews_df[\"occasions\"] = amz_good_reviews_df[\"occasions\"].apply(lambda x: ''.join(x[0]))\n",
    "amz_good_reviews_df[\"occasions\"] = amz_good_reviews_df[\"occasions\"].apply(lambda x: ''.join(x[0]) if len(x) != 0 else '')\n",
    "\n",
    "# Clean toys\n",
    "amz_good_reviews_df[\"toys\"] = amz_good_reviews_df[\"toys\"].apply(lambda x: ''.join(set(x)))"
   ]
  },
  {
   "cell_type": "code",
   "execution_count": 47,
   "metadata": {},
   "outputs": [],
   "source": [
    "# Poor reviews\n",
    "\n",
    "amz_poor_reviews_df = pd.DataFrame(amz_poor_reviews, columns=[\"reviews\"])\n",
    "\n",
    "# Find occasions\n",
    "amz_poor_reviews_df[\"occasions\"] = amz_poor_reviews_df[\"reviews\"].str.findall(r\"(birthday)s?|(anniversar)\\w+|(christmas)\\w*\")\n",
    "\n",
    "# Find Male Recepient\n",
    "amz_poor_reviews_df[\"m_recepient\"] = amz_poor_reviews_df[\"reviews\"].str.findall(r\"(sons?|boys?|grand(sons|pas?|pops?|fathers?)|fathers?|dad(dy)?|uncles?|brothers?|males?|husbands?)\")\n",
    "\n",
    "# Find Female Recepient\n",
    "amz_poor_reviews_df[\"f_recepient\"] = amz_poor_reviews_df[\"reviews\"].str.findall(r\"(daughters?|girls?|grand(daughters|mas?|moms?|mothers?)|mothers?|mom(my)?|aunts?|sisters?|females?|wi(fe|ves))\")\n",
    "\n",
    "# Find toys\n",
    "amz_poor_reviews_df[\"toys\"] = amz_poor_reviews_df[\"reviews\"].str.findall(r\"[\\b]*(toy)s?[\\b]*\")\n",
    "\n",
    "# Clean recepients\n",
    "amz_poor_reviews_df[\"m_recepient\"] = amz_poor_reviews_df[\"m_recepient\"].apply(lambda x: \"Male\" if len(x) != 0 else '')\n",
    "amz_poor_reviews_df[\"f_recepient\"] = amz_poor_reviews_df[\"f_recepient\"].apply(lambda x: \"Female\" if len(x) != 0 else '')\n",
    "\n",
    "# amz_poor_reviews_df[\"m_recepient\"] = np.where(amz_poor_reviews_df[\"m_recepient\"] == \"Male\", amz_poor_reviews_df[\"m_recepient\"], \"\")\n",
    "# amz_poor_reviews_df[\"f_recepient\"] = np.where(amz_poor_reviews_df[\"f_recepient\"] == \"Female\", amz_poor_reviews_df[\"f_recepient\"], \"\")\n",
    "\n",
    "amz_poor_reviews_df[\"recepient\"] = amz_poor_reviews_df[\"m_recepient\"]+amz_poor_reviews_df[\"f_recepient\"]\n",
    "\n",
    "# Clean occassions\n",
    "# amz_poor_reviews_df = amz_poor_reviews_df[amz_poor_reviews_df[\"occasions\"].apply(lambda x: len(x) != 0)].reset_index(drop=True)\n",
    "# amz_poor_reviews_df[\"occasions\"] = amz_poor_reviews_df[\"occasions\"].apply(lambda x: ''.join(x[0]))\n",
    "amz_poor_reviews_df[\"occasions\"] = amz_poor_reviews_df[\"occasions\"].apply(lambda x: ''.join(x[0]) if len(x) != 0 else '')\n",
    "\n",
    "# Clean toys\n",
    "amz_poor_reviews_df[\"toys\"] = amz_poor_reviews_df[\"toys\"].apply(lambda x: ''.join(set(x)))"
   ]
  },
  {
   "cell_type": "markdown",
   "metadata": {},
   "source": [
    "* A manager in the marketing department wants to find out the most frequently used words in positive reviews (five stars) and negative reviews (one star) in order to determine what occasion the toys are purchased for (Christmas, birthdays, and anniversaries.). He would like your opinion on **which gift occasions (Christmas, birthdays, or anniversaries) tend to have the most positive reviews** to focus marketing budget on those days."
   ]
  },
  {
   "cell_type": "code",
   "execution_count": 48,
   "metadata": {},
   "outputs": [
    {
     "data": {
      "text/html": [
       "<div>\n",
       "<style scoped>\n",
       "    .dataframe tbody tr th:only-of-type {\n",
       "        vertical-align: middle;\n",
       "    }\n",
       "\n",
       "    .dataframe tbody tr th {\n",
       "        vertical-align: top;\n",
       "    }\n",
       "\n",
       "    .dataframe thead th {\n",
       "        text-align: right;\n",
       "    }\n",
       "</style>\n",
       "<table border=\"1\" class=\"dataframe\">\n",
       "  <thead>\n",
       "    <tr style=\"text-align: right;\">\n",
       "      <th></th>\n",
       "      <th>occasions</th>\n",
       "      <th>reviews</th>\n",
       "    </tr>\n",
       "  </thead>\n",
       "  <tbody>\n",
       "    <tr>\n",
       "      <th>1</th>\n",
       "      <td>anniversary</td>\n",
       "      <td>51</td>\n",
       "    </tr>\n",
       "    <tr>\n",
       "      <th>2</th>\n",
       "      <td>birthday</td>\n",
       "      <td>3778</td>\n",
       "    </tr>\n",
       "    <tr>\n",
       "      <th>3</th>\n",
       "      <td>christmas</td>\n",
       "      <td>1075</td>\n",
       "    </tr>\n",
       "  </tbody>\n",
       "</table>\n",
       "</div>"
      ],
      "text/plain": [
       "     occasions  reviews\n",
       "1  anniversary       51\n",
       "2     birthday     3778\n",
       "3    christmas     1075"
      ]
     },
     "execution_count": 48,
     "metadata": {},
     "output_type": "execute_result"
    }
   ],
   "source": [
    "amz_good_occ = amz_good_reviews_df.groupby(\"occasions\")[[\"reviews\"]].count()\n",
    "amz_good_occ = amz_good_occ.rename(index={\"anniversar\":\"anniversary\"}).reset_index().drop(0)\n",
    "amz_good_occ"
   ]
  },
  {
   "cell_type": "code",
   "execution_count": 49,
   "metadata": {},
   "outputs": [
    {
     "data": {
      "image/png": "[encoded data removed]",
      "text/plain": [
       "<Figure size 648x360 with 1 Axes>"
      ]
     },
     "metadata": {
      "needs_background": "light"
     },
     "output_type": "display_data"
    }
   ],
   "source": [
    "fig, ax = plt.subplots(figsize=(9,5))\n",
    "\n",
    "sns.barplot(data=amz_good_occ, x=\"occasions\", y=\"reviews\", ax=ax);"
   ]
  },
  {
   "cell_type": "markdown",
   "metadata": {},
   "source": [
    "**I assumed that all reviews are about the toy product regardless they include the word toy**\n",
    "\n",
    "Between three occasions of Christmas, Birthday, and Anniversary, Birthday tend to have the most positive reviews. \\\n",
    "The inferred reasons for the phenomenon are the followings:\n",
    "\n",
    "1. The gift is most suitable for birthdays\n",
    "2. Birthdays can be anyday in a year, but christmas is one day\n",
    "3. Given the product is a toy, it was a gift for mostly children rather than adults. That is why anniversay has a low occurrence even though it can also be any day in a year."
   ]
  },
  {
   "cell_type": "markdown",
   "metadata": {},
   "source": [
    "* One of your product managers suspects that **toys purchased for male recipients (husbands, sons, etc.)** tend to be much more likely to be reviewed poorly. She would like to see some data points confirming or rejecting her hypothesis. "
   ]
  },
  {
   "cell_type": "code",
   "execution_count": 100,
   "metadata": {},
   "outputs": [],
   "source": [
    "# Reviews that contain word toy\n",
    "# amz_toys_good = amz_good_reviews_df[amz_good_reviews_df[\"toys\"] != '']\n",
    "\n",
    "amz_toys_good = amz_good_reviews_df.groupby(\"recepient\")[[\"reviews\"]].count()\n",
    "amz_toys_good.rename(columns={\"reviews\":\"good reviews\"}, inplace=True)\n",
    "\n",
    "amz_toys_poor = amz_poor_reviews_df.groupby(\"recepient\")[[\"reviews\"]].count()\n",
    "amz_toys_poor.rename(columns={\"reviews\":\"bad reviews\"}, inplace=True)"
   ]
  },
  {
   "cell_type": "code",
   "execution_count": 101,
   "metadata": {},
   "outputs": [
    {
     "data": {
      "text/html": [
       "<div>\n",
       "<style scoped>\n",
       "    .dataframe tbody tr th:only-of-type {\n",
       "        vertical-align: middle;\n",
       "    }\n",
       "\n",
       "    .dataframe tbody tr th {\n",
       "        vertical-align: top;\n",
       "    }\n",
       "\n",
       "    .dataframe thead th {\n",
       "        text-align: right;\n",
       "    }\n",
       "</style>\n",
       "<table border=\"1\" class=\"dataframe\">\n",
       "  <thead>\n",
       "    <tr style=\"text-align: right;\">\n",
       "      <th></th>\n",
       "      <th>good reviews</th>\n",
       "      <th>bad reviews</th>\n",
       "    </tr>\n",
       "    <tr>\n",
       "      <th>recepient</th>\n",
       "      <th></th>\n",
       "      <th></th>\n",
       "    </tr>\n",
       "  </thead>\n",
       "  <tbody>\n",
       "    <tr>\n",
       "      <th>Female</th>\n",
       "      <td>11589</td>\n",
       "      <td>623</td>\n",
       "    </tr>\n",
       "    <tr>\n",
       "      <th>Male</th>\n",
       "      <td>13969</td>\n",
       "      <td>1107</td>\n",
       "    </tr>\n",
       "  </tbody>\n",
       "</table>\n",
       "</div>"
      ],
      "text/plain": [
       "           good reviews  bad reviews\n",
       "recepient                           \n",
       "Female            11589          623\n",
       "Male              13969         1107"
      ]
     },
     "execution_count": 101,
     "metadata": {},
     "output_type": "execute_result"
    }
   ],
   "source": [
    "pd.concat([amz_toys_good, amz_toys_poor], axis=1).iloc[1:3]"
   ]
  },
  {
   "cell_type": "code",
   "execution_count": 102,
   "metadata": {},
   "outputs": [],
   "source": [
    "# Reviews that contain word toy\n",
    "# amz_toys_poor = amz_poor_reviews_df[amz_poor_reviews_df[\"toys\"] != '']\n",
    "\n",
    "amz_toys_good = amz_toys_good.iloc[1:3]\n",
    "amz_toys_good = amz_toys_good.div(amz_toys_good.sum(axis=0), axis=1)\n",
    "amz_toys_good.rename(columns={\"reviews\":\"good reviews\"}, inplace=True)\n",
    "\n",
    "# Drop reviews with no male/female or both male/female\n",
    "amz_toys_poor = amz_toys_poor.iloc[1:3]\n",
    "amz_toys_poor = amz_toys_poor.div(amz_toys_poor.sum(axis=0), axis=1)\n",
    "amz_toys_poor.rename(columns={\"reviews\":\"bad reviews\"}, inplace=True)"
   ]
  },
  {
   "cell_type": "code",
   "execution_count": 103,
   "metadata": {},
   "outputs": [
    {
     "data": {
      "text/html": [
       "<div>\n",
       "<style scoped>\n",
       "    .dataframe tbody tr th:only-of-type {\n",
       "        vertical-align: middle;\n",
       "    }\n",
       "\n",
       "    .dataframe tbody tr th {\n",
       "        vertical-align: top;\n",
       "    }\n",
       "\n",
       "    .dataframe thead th {\n",
       "        text-align: right;\n",
       "    }\n",
       "</style>\n",
       "<table border=\"1\" class=\"dataframe\">\n",
       "  <thead>\n",
       "    <tr style=\"text-align: right;\">\n",
       "      <th></th>\n",
       "      <th>good reviews</th>\n",
       "      <th>bad reviews</th>\n",
       "    </tr>\n",
       "    <tr>\n",
       "      <th>recepient</th>\n",
       "      <th></th>\n",
       "      <th></th>\n",
       "    </tr>\n",
       "  </thead>\n",
       "  <tbody>\n",
       "    <tr>\n",
       "      <th>Female</th>\n",
       "      <td>0.453439</td>\n",
       "      <td>0.360116</td>\n",
       "    </tr>\n",
       "    <tr>\n",
       "      <th>Male</th>\n",
       "      <td>0.546561</td>\n",
       "      <td>0.639884</td>\n",
       "    </tr>\n",
       "  </tbody>\n",
       "</table>\n",
       "</div>"
      ],
      "text/plain": [
       "           good reviews  bad reviews\n",
       "recepient                           \n",
       "Female         0.453439     0.360116\n",
       "Male           0.546561     0.639884"
      ]
     },
     "execution_count": 103,
     "metadata": {},
     "output_type": "execute_result"
    }
   ],
   "source": [
    "pd.concat([amz_toys_good, amz_toys_poor], axis=1)"
   ]
  },
  {
   "cell_type": "markdown",
   "metadata": {},
   "source": [
    "Among the recepients that I was able to identify and parse, Male recepients had more bad reviews than female recepients. I also analyzed whether male recepients tend to have more poor reviews than good reviews. Since the number of good and poor reviews differ in large magnitude, I converted it to the percentage of reviews by male and female recepients respectively. As shown above, male recepients tend to have more bad reviews while female recepients have more good reviews."
   ]
  },
  {
   "cell_type": "markdown",
   "metadata": {},
   "source": [
    "* Use **regular expressions to parse out all references to recipients and gift occassions**, and account for the possibility that people may spell words \"son\" / \"children\" / \"Christmas\" as both singular and plural, upper or lower-cased."
   ]
  },
  {
   "cell_type": "markdown",
   "metadata": {},
   "source": [
    "Explain what some of pitfalls/limitations are of using only a word count analysis to make these inferences. What additional research/steps would you need to do to verify your conclusions?"
   ]
  },
  {
   "cell_type": "markdown",
   "metadata": {},
   "source": [
    "- Have to manually find variations of male/female recepients\n",
    "- Ocassionally, both male and female words appear. It is not clear who is the recepient of the gift."
   ]
  },
  {
   "cell_type": "markdown",
   "metadata": {},
   "source": [
    "* **Create a simple text file that contains 2-3 lines at most describing yourself, your background, and interests. It must contain at least 1 emoji and 4-5 international characters (non-ASCII)**. Make sure to properly encode the file so that I can open it in `UTF-8` to read. I must be able to read all characters properly. Attach it to your submission."
   ]
  },
  {
   "cell_type": "code",
   "execution_count": 111,
   "metadata": {},
   "outputs": [],
   "source": [
    "with open(\"simple_text_non_ascii.txt\",'r', encoding=\"utf8\") as fh:\n",
    "     intro = fh.readlines()"
   ]
  },
  {
   "cell_type": "code",
   "execution_count": 112,
   "metadata": {},
   "outputs": [
    {
     "data": {
      "text/plain": [
       "['안녕하세요. 저는 조규태 입니다. 저는 현재 남가주대학교에서 석사과정을 하고 있고, 이 글은 자연어해석 수업의 일부로 적고 있는 글 입니다. 한국어 자연어 해석에 대해 배우고 싶습니다✌']"
      ]
     },
     "execution_count": 112,
     "metadata": {},
     "output_type": "execute_result"
    }
   ],
   "source": [
    "intro"
   ]
  },
  {
   "cell_type": "markdown",
   "metadata": {},
   "source": [
    "** Additional Experiment"
   ]
  },
  {
   "cell_type": "code",
   "execution_count": 18,
   "metadata": {},
   "outputs": [],
   "source": [
    "from collections import Counter\n",
    "\n",
    "def count_words(lines, delimiter=\" \"):\n",
    "    \n",
    "    words = Counter() # instantiate a Counter object called words\n",
    "    for line in amz_poor_reviews:\n",
    "        for word in line.split(delimiter):\n",
    "            words[word] += 1 # increment count for word\n",
    "    return words"
   ]
  },
  {
   "cell_type": "code",
   "execution_count": 19,
   "metadata": {},
   "outputs": [],
   "source": [
    "amz_poor_dict = count_words(amz_poor_reviews)"
   ]
  },
  {
   "cell_type": "code",
   "execution_count": 20,
   "metadata": {
    "scrolled": false
   },
   "outputs": [
    {
     "data": {
      "text/html": [
       "<div>\n",
       "<style scoped>\n",
       "    .dataframe tbody tr th:only-of-type {\n",
       "        vertical-align: middle;\n",
       "    }\n",
       "\n",
       "    .dataframe tbody tr th {\n",
       "        vertical-align: top;\n",
       "    }\n",
       "\n",
       "    .dataframe thead th {\n",
       "        text-align: right;\n",
       "    }\n",
       "</style>\n",
       "<table border=\"1\" class=\"dataframe\">\n",
       "  <thead>\n",
       "    <tr style=\"text-align: right;\">\n",
       "      <th></th>\n",
       "      <th>words</th>\n",
       "      <th>count</th>\n",
       "    </tr>\n",
       "  </thead>\n",
       "  <tbody>\n",
       "    <tr>\n",
       "      <th>15</th>\n",
       "      <td>the</td>\n",
       "      <td>21945</td>\n",
       "    </tr>\n",
       "    <tr>\n",
       "      <th>14</th>\n",
       "      <td>and</td>\n",
       "      <td>11191</td>\n",
       "    </tr>\n",
       "    <tr>\n",
       "      <th>121</th>\n",
       "      <td>it</td>\n",
       "      <td>10605</td>\n",
       "    </tr>\n",
       "    <tr>\n",
       "      <th>8</th>\n",
       "      <td>i</td>\n",
       "      <td>10232</td>\n",
       "    </tr>\n",
       "    <tr>\n",
       "      <th>63</th>\n",
       "      <td>to</td>\n",
       "      <td>9690</td>\n",
       "    </tr>\n",
       "    <tr>\n",
       "      <th>...</th>\n",
       "      <td>...</td>\n",
       "      <td>...</td>\n",
       "    </tr>\n",
       "    <tr>\n",
       "      <th>16059</th>\n",
       "      <td>grader,</td>\n",
       "      <td>1</td>\n",
       "    </tr>\n",
       "    <tr>\n",
       "      <th>16058</th>\n",
       "      <td>soon!</td>\n",
       "      <td>1</td>\n",
       "    </tr>\n",
       "    <tr>\n",
       "      <th>16057</th>\n",
       "      <td>headrest</td>\n",
       "      <td>1</td>\n",
       "    </tr>\n",
       "    <tr>\n",
       "      <th>16053</th>\n",
       "      <td>ask.\"</td>\n",
       "      <td>1</td>\n",
       "    </tr>\n",
       "    <tr>\n",
       "      <th>30390</th>\n",
       "      <td>\"fake.</td>\n",
       "      <td>1</td>\n",
       "    </tr>\n",
       "  </tbody>\n",
       "</table>\n",
       "<p>30391 rows × 2 columns</p>\n",
       "</div>"
      ],
      "text/plain": [
       "          words  count\n",
       "15          the  21945\n",
       "14          and  11191\n",
       "121          it  10605\n",
       "8             i  10232\n",
       "63           to   9690\n",
       "...         ...    ...\n",
       "16059   grader,      1\n",
       "16058     soon!      1\n",
       "16057  headrest      1\n",
       "16053     ask.\"      1\n",
       "30390    \"fake.      1\n",
       "\n",
       "[30391 rows x 2 columns]"
      ]
     },
     "execution_count": 20,
     "metadata": {},
     "output_type": "execute_result"
    }
   ],
   "source": [
    "amz_poor_df = pd.DataFrame.from_dict(amz_poor_dict, orient='index').reset_index().rename(columns={\"index\":\"words\", 0:\"count\"})\n",
    "amz_poor_df.sort_values(\"count\", ascending=False)"
   ]
  },
  {
   "cell_type": "code",
   "execution_count": 42,
   "metadata": {},
   "outputs": [],
   "source": [
    "from nltk.corpus import stopwords\n",
    "nltk_stopwords = set(stopwords.words('english'))"
   ]
  },
  {
   "cell_type": "code",
   "execution_count": 43,
   "metadata": {
    "scrolled": false
   },
   "outputs": [
    {
     "data": {
      "text/html": [
       "<div>\n",
       "<style scoped>\n",
       "    .dataframe tbody tr th:only-of-type {\n",
       "        vertical-align: middle;\n",
       "    }\n",
       "\n",
       "    .dataframe tbody tr th {\n",
       "        vertical-align: top;\n",
       "    }\n",
       "\n",
       "    .dataframe thead th {\n",
       "        text-align: right;\n",
       "    }\n",
       "</style>\n",
       "<table border=\"1\" class=\"dataframe\">\n",
       "  <thead>\n",
       "    <tr style=\"text-align: right;\">\n",
       "      <th></th>\n",
       "      <th>words</th>\n",
       "      <th>count</th>\n",
       "    </tr>\n",
       "  </thead>\n",
       "  <tbody>\n",
       "    <tr>\n",
       "      <th>212</th>\n",
       "      <td></td>\n",
       "      <td>7365</td>\n",
       "    </tr>\n",
       "    <tr>\n",
       "      <th>105</th>\n",
       "      <td>one</td>\n",
       "      <td>2175</td>\n",
       "    </tr>\n",
       "    <tr>\n",
       "      <th>178</th>\n",
       "      <td>would</td>\n",
       "      <td>1741</td>\n",
       "    </tr>\n",
       "    <tr>\n",
       "      <th>304</th>\n",
       "      <td>like</td>\n",
       "      <td>1493</td>\n",
       "    </tr>\n",
       "    <tr>\n",
       "      <th>156</th>\n",
       "      <td>get</td>\n",
       "      <td>1293</td>\n",
       "    </tr>\n",
       "    <tr>\n",
       "      <th>...</th>\n",
       "      <td>...</td>\n",
       "      <td>...</td>\n",
       "    </tr>\n",
       "    <tr>\n",
       "      <th>16058</th>\n",
       "      <td>soon!</td>\n",
       "      <td>1</td>\n",
       "    </tr>\n",
       "    <tr>\n",
       "      <th>16057</th>\n",
       "      <td>headrest</td>\n",
       "      <td>1</td>\n",
       "    </tr>\n",
       "    <tr>\n",
       "      <th>16053</th>\n",
       "      <td>ask.\"</td>\n",
       "      <td>1</td>\n",
       "    </tr>\n",
       "    <tr>\n",
       "      <th>16051</th>\n",
       "      <td>giveaways</td>\n",
       "      <td>1</td>\n",
       "    </tr>\n",
       "    <tr>\n",
       "      <th>30390</th>\n",
       "      <td>\"fake.</td>\n",
       "      <td>1</td>\n",
       "    </tr>\n",
       "  </tbody>\n",
       "</table>\n",
       "<p>30239 rows × 2 columns</p>\n",
       "</div>"
      ],
      "text/plain": [
       "           words  count\n",
       "212                7365\n",
       "105          one   2175\n",
       "178        would   1741\n",
       "304         like   1493\n",
       "156          get   1293\n",
       "...          ...    ...\n",
       "16058      soon!      1\n",
       "16057   headrest      1\n",
       "16053      ask.\"      1\n",
       "16051  giveaways      1\n",
       "30390     \"fake.      1\n",
       "\n",
       "[30239 rows x 2 columns]"
      ]
     },
     "execution_count": 43,
     "metadata": {},
     "output_type": "execute_result"
    }
   ],
   "source": [
    "amz_poor_df[~amz_poor_df[\"words\"].isin(nltk_stopwords)].sort_values(\"count\", ascending=False)"
   ]
  }
 ],
 "metadata": {
  "kernelspec": {
   "display_name": "Python 3",
   "language": "python",
   "name": "python3"
  },
  "language_info": {
   "codemirror_mode": {
    "name": "ipython",
    "version": 3
   },
   "file_extension": ".py",
   "mimetype": "text/x-python",
   "name": "python",
   "nbconvert_exporter": "python",
   "pygments_lexer": "ipython3",
   "version": "3.8.5"
  }
 },
 "nbformat": 4,
 "nbformat_minor": 4
}
