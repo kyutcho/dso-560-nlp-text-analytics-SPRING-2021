{
 "cells": [
  {
   "cell_type": "code",
   "execution_count": 1,
   "metadata": {},
   "outputs": [],
   "source": [
    "import numpy as np\n",
    "import pandas as pd\n",
    "import matplotlib.pyplot as plt\n",
    "import seaborn as sns"
   ]
  },
  {
   "cell_type": "code",
   "execution_count": 2,
   "metadata": {},
   "outputs": [],
   "source": [
    "product_df = pd.read_excel(\"Behold+product+data+04262021.xlsx\")"
   ]
  },
  {
   "cell_type": "code",
   "execution_count": 3,
   "metadata": {},
   "outputs": [],
   "source": [
    "brand_df = pd.read_csv(\"behold_brands USC.csv\")"
   ]
  },
  {
   "cell_type": "code",
   "execution_count": 4,
   "metadata": {},
   "outputs": [],
   "source": [
    "outfit_comb_df = pd.read_csv(\"outfit_combinations USC.csv\")"
   ]
  },
  {
   "cell_type": "code",
   "execution_count": 5,
   "metadata": {},
   "outputs": [],
   "source": [
    "tags_df = pd.read_csv(\"usc_additional_tags USC.csv\")"
   ]
  },
  {
   "cell_type": "code",
   "execution_count": 47,
   "metadata": {
    "scrolled": false
   },
   "outputs": [
    {
     "data": {
      "text/html": [
       "<div>\n",
       "<style scoped>\n",
       "    .dataframe tbody tr th:only-of-type {\n",
       "        vertical-align: middle;\n",
       "    }\n",
       "\n",
       "    .dataframe tbody tr th {\n",
       "        vertical-align: top;\n",
       "    }\n",
       "\n",
       "    .dataframe thead th {\n",
       "        text-align: right;\n",
       "    }\n",
       "</style>\n",
       "<table border=\"1\" class=\"dataframe\">\n",
       "  <thead>\n",
       "    <tr style=\"text-align: right;\">\n",
       "      <th></th>\n",
       "      <th>product_id</th>\n",
       "      <th>product_color_id</th>\n",
       "      <th>attribute_name</th>\n",
       "      <th>attribute_value</th>\n",
       "    </tr>\n",
       "  </thead>\n",
       "  <tbody>\n",
       "    <tr>\n",
       "      <th>0</th>\n",
       "      <td>01E5ZXP5H0BTEZT9QD2HRZJ47A</td>\n",
       "      <td>01E5ZXP5JCREDC7WJVMWHK5Q40</td>\n",
       "      <td>materialclothing</td>\n",
       "      <td>linenblend</td>\n",
       "    </tr>\n",
       "    <tr>\n",
       "      <th>1</th>\n",
       "      <td>01E5ZXP5H0BTEZT9QD2HRZJ47A</td>\n",
       "      <td>01E5ZXP5JCREDC7WJVMWHK5Q40</td>\n",
       "      <td>materialclothing</td>\n",
       "      <td>cottonblend</td>\n",
       "    </tr>\n",
       "    <tr>\n",
       "      <th>2</th>\n",
       "      <td>01E5ZXP5H0BTEZT9QD2HRZJ47A</td>\n",
       "      <td>01E5ZXP5JCREDC7WJVMWHK5Q40</td>\n",
       "      <td>style</td>\n",
       "      <td>modern</td>\n",
       "    </tr>\n",
       "    <tr>\n",
       "      <th>3</th>\n",
       "      <td>01E5ZXP5H0BTEZT9QD2HRZJ47A</td>\n",
       "      <td>01E5ZXP5JCREDC7WJVMWHK5Q40</td>\n",
       "      <td>style</td>\n",
       "      <td>businesscasual</td>\n",
       "    </tr>\n",
       "    <tr>\n",
       "      <th>4</th>\n",
       "      <td>01E5ZXP5H0BTEZT9QD2HRZJ47A</td>\n",
       "      <td>01E5ZXP5JCREDC7WJVMWHK5Q40</td>\n",
       "      <td>style</td>\n",
       "      <td>classic</td>\n",
       "    </tr>\n",
       "    <tr>\n",
       "      <th>...</th>\n",
       "      <td>...</td>\n",
       "      <td>...</td>\n",
       "      <td>...</td>\n",
       "      <td>...</td>\n",
       "    </tr>\n",
       "    <tr>\n",
       "      <th>97415</th>\n",
       "      <td>01DT2D3BN9K4SEH71MPB7WD5WA</td>\n",
       "      <td>01DT2D3BNFZBEA1BTZHSGCQN46</td>\n",
       "      <td>fit</td>\n",
       "      <td>relaxed</td>\n",
       "    </tr>\n",
       "    <tr>\n",
       "      <th>97416</th>\n",
       "      <td>01DT2D3BN9K4SEH71MPB7WD5WA</td>\n",
       "      <td>01DT2D3BNFZBEA1BTZHSGCQN46</td>\n",
       "      <td>lengthblazerscoatsandjackets</td>\n",
       "      <td>midlengthathips</td>\n",
       "    </tr>\n",
       "    <tr>\n",
       "      <th>97417</th>\n",
       "      <td>01DT2D3BN9K4SEH71MPB7WD5WA</td>\n",
       "      <td>01DT2D3BNFZBEA1BTZHSGCQN46</td>\n",
       "      <td>closureblazerscoatsandjackets</td>\n",
       "      <td>buttonedfront</td>\n",
       "    </tr>\n",
       "    <tr>\n",
       "      <th>97418</th>\n",
       "      <td>01DT2D3BN9K4SEH71MPB7WD5WA</td>\n",
       "      <td>01DT2D3BNFZBEA1BTZHSGCQN46</td>\n",
       "      <td>occasion</td>\n",
       "      <td>work</td>\n",
       "    </tr>\n",
       "    <tr>\n",
       "      <th>97419</th>\n",
       "      <td>01DT2D3BN9K4SEH71MPB7WD5WA</td>\n",
       "      <td>01DT2D3BNFZBEA1BTZHSGCQN46</td>\n",
       "      <td>occasion</td>\n",
       "      <td>daytonight</td>\n",
       "    </tr>\n",
       "  </tbody>\n",
       "</table>\n",
       "<p>97420 rows × 4 columns</p>\n",
       "</div>"
      ],
      "text/plain": [
       "                       product_id            product_color_id  \\\n",
       "0      01E5ZXP5H0BTEZT9QD2HRZJ47A  01E5ZXP5JCREDC7WJVMWHK5Q40   \n",
       "1      01E5ZXP5H0BTEZT9QD2HRZJ47A  01E5ZXP5JCREDC7WJVMWHK5Q40   \n",
       "2      01E5ZXP5H0BTEZT9QD2HRZJ47A  01E5ZXP5JCREDC7WJVMWHK5Q40   \n",
       "3      01E5ZXP5H0BTEZT9QD2HRZJ47A  01E5ZXP5JCREDC7WJVMWHK5Q40   \n",
       "4      01E5ZXP5H0BTEZT9QD2HRZJ47A  01E5ZXP5JCREDC7WJVMWHK5Q40   \n",
       "...                           ...                         ...   \n",
       "97415  01DT2D3BN9K4SEH71MPB7WD5WA  01DT2D3BNFZBEA1BTZHSGCQN46   \n",
       "97416  01DT2D3BN9K4SEH71MPB7WD5WA  01DT2D3BNFZBEA1BTZHSGCQN46   \n",
       "97417  01DT2D3BN9K4SEH71MPB7WD5WA  01DT2D3BNFZBEA1BTZHSGCQN46   \n",
       "97418  01DT2D3BN9K4SEH71MPB7WD5WA  01DT2D3BNFZBEA1BTZHSGCQN46   \n",
       "97419  01DT2D3BN9K4SEH71MPB7WD5WA  01DT2D3BNFZBEA1BTZHSGCQN46   \n",
       "\n",
       "                      attribute_name  attribute_value  \n",
       "0                   materialclothing       linenblend  \n",
       "1                   materialclothing      cottonblend  \n",
       "2                              style           modern  \n",
       "3                              style   businesscasual  \n",
       "4                              style          classic  \n",
       "...                              ...              ...  \n",
       "97415                            fit          relaxed  \n",
       "97416   lengthblazerscoatsandjackets  midlengthathips  \n",
       "97417  closureblazerscoatsandjackets    buttonedfront  \n",
       "97418                       occasion             work  \n",
       "97419                       occasion       daytonight  \n",
       "\n",
       "[97420 rows x 4 columns]"
      ]
     },
     "execution_count": 47,
     "metadata": {},
     "output_type": "execute_result"
    }
   ],
   "source": [
    "tags_df"
   ]
  },
  {
   "cell_type": "code",
   "execution_count": 21,
   "metadata": {},
   "outputs": [
    {
     "data": {
      "text/html": [
       "<div>\n",
       "<style scoped>\n",
       "    .dataframe tbody tr th:only-of-type {\n",
       "        vertical-align: middle;\n",
       "    }\n",
       "\n",
       "    .dataframe tbody tr th {\n",
       "        vertical-align: top;\n",
       "    }\n",
       "\n",
       "    .dataframe thead th {\n",
       "        text-align: right;\n",
       "    }\n",
       "</style>\n",
       "<table border=\"1\" class=\"dataframe\">\n",
       "  <thead>\n",
       "    <tr style=\"text-align: right;\">\n",
       "      <th></th>\n",
       "      <th>outfit_id</th>\n",
       "      <th>product_id</th>\n",
       "      <th>outfit_item_type</th>\n",
       "      <th>brand</th>\n",
       "      <th>product_full_name</th>\n",
       "    </tr>\n",
       "  </thead>\n",
       "  <tbody>\n",
       "    <tr>\n",
       "      <th>0</th>\n",
       "      <td>01DDBHC62ES5K80P0KYJ56AM2T</td>\n",
       "      <td>01DMBRYVA2P5H24WK0HTK4R0A1</td>\n",
       "      <td>bottom</td>\n",
       "      <td>Eileen Fisher</td>\n",
       "      <td>Slim Knit Skirt</td>\n",
       "    </tr>\n",
       "    <tr>\n",
       "      <th>1</th>\n",
       "      <td>01DDBHC62ES5K80P0KYJ56AM2T</td>\n",
       "      <td>01DMBRYVA2PEPWFTT7RMP5AA1T</td>\n",
       "      <td>top</td>\n",
       "      <td>Eileen Fisher</td>\n",
       "      <td>Rib Mock Neck Tank</td>\n",
       "    </tr>\n",
       "    <tr>\n",
       "      <th>2</th>\n",
       "      <td>01DDBHC62ES5K80P0KYJ56AM2T</td>\n",
       "      <td>01DMBRYVA2S5T9W793F4CY41HE</td>\n",
       "      <td>accessory1</td>\n",
       "      <td>kate spade new york</td>\n",
       "      <td>medium margaux leather satchel</td>\n",
       "    </tr>\n",
       "    <tr>\n",
       "      <th>3</th>\n",
       "      <td>01DDBHC62ES5K80P0KYJ56AM2T</td>\n",
       "      <td>01DMBRYVA2ZFDYRYY5TRQZJTBD</td>\n",
       "      <td>shoe</td>\n",
       "      <td>Tory Burch</td>\n",
       "      <td>Penelope Mid Cap Toe Pump</td>\n",
       "    </tr>\n",
       "    <tr>\n",
       "      <th>4</th>\n",
       "      <td>01DMHCX50CFX5YNG99F3Y65GQW</td>\n",
       "      <td>01DMBRYVA2P5H24WK0HTK4R0A1</td>\n",
       "      <td>bottom</td>\n",
       "      <td>Eileen Fisher</td>\n",
       "      <td>Slim Knit Skirt</td>\n",
       "    </tr>\n",
       "  </tbody>\n",
       "</table>\n",
       "</div>"
      ],
      "text/plain": [
       "                    outfit_id                  product_id outfit_item_type  \\\n",
       "0  01DDBHC62ES5K80P0KYJ56AM2T  01DMBRYVA2P5H24WK0HTK4R0A1           bottom   \n",
       "1  01DDBHC62ES5K80P0KYJ56AM2T  01DMBRYVA2PEPWFTT7RMP5AA1T              top   \n",
       "2  01DDBHC62ES5K80P0KYJ56AM2T  01DMBRYVA2S5T9W793F4CY41HE       accessory1   \n",
       "3  01DDBHC62ES5K80P0KYJ56AM2T  01DMBRYVA2ZFDYRYY5TRQZJTBD             shoe   \n",
       "4  01DMHCX50CFX5YNG99F3Y65GQW  01DMBRYVA2P5H24WK0HTK4R0A1           bottom   \n",
       "\n",
       "                 brand               product_full_name  \n",
       "0        Eileen Fisher                 Slim Knit Skirt  \n",
       "1        Eileen Fisher              Rib Mock Neck Tank  \n",
       "2  kate spade new york  medium margaux leather satchel  \n",
       "3           Tory Burch       Penelope Mid Cap Toe Pump  \n",
       "4        Eileen Fisher                 Slim Knit Skirt  "
      ]
     },
     "execution_count": 21,
     "metadata": {},
     "output_type": "execute_result"
    }
   ],
   "source": [
    "outfit_comb_df.head(5)"
   ]
  },
  {
   "cell_type": "code",
   "execution_count": 44,
   "metadata": {},
   "outputs": [],
   "source": [
    "outfit_to_prod_dict = {}\n",
    "\n",
    "for i in range(outfit_comb_df.shape[0]):\n",
    "        outfit_id = outfit_comb_df.iloc[i,0]\n",
    "        product_id = outfit_comb_df.iloc[i,1]\n",
    "        # If outfit does not exist in dict\n",
    "        if outfit_id not in outfit_to_prod_dict.keys():\n",
    "            outfit_to_prod_dict[outfit_id] = [product_id]\n",
    "        else:\n",
    "            outfit_to_prod_dict[outfit_id].append(product_id)"
   ]
  },
  {
   "cell_type": "code",
   "execution_count": 45,
   "metadata": {
    "scrolled": false
   },
   "outputs": [],
   "source": [
    "prod_to_outfit_dict = dict(zip(outfit_comb_df.product_id, outfit_comb_df.outfit_id))"
   ]
  },
  {
   "cell_type": "code",
   "execution_count": 46,
   "metadata": {},
   "outputs": [
    {
     "data": {
      "text/plain": [
       "['01DMBRYVA2P5H24WK0HTK4R0A1',\n",
       " '01DMBRYVA2PEPWFTT7RMP5AA1T',\n",
       " '01DMBRYVA2ZFDYRYY5TRQZJTBD',\n",
       " '01DMHCNT41E14QWP503V7CT9G6']"
      ]
     },
     "execution_count": 46,
     "metadata": {},
     "output_type": "execute_result"
    }
   ],
   "source": [
    "# Test\n",
    "outfit_to_prod_dict[prod_to_outfit_dict[\"01DMBRYVA2P5H24WK0HTK4R0A1\"]]"
   ]
  },
  {
   "cell_type": "code",
   "execution_count": null,
   "metadata": {},
   "outputs": [],
   "source": []
  }
 ],
 "metadata": {
  "kernelspec": {
   "display_name": "Python 3",
   "language": "python",
   "name": "python3"
  },
  "language_info": {
   "codemirror_mode": {
    "name": "ipython",
    "version": 3
   },
   "file_extension": ".py",
   "mimetype": "text/x-python",
   "name": "python",
   "nbconvert_exporter": "python",
   "pygments_lexer": "ipython3",
   "version": "3.8.5"
  }
 },
 "nbformat": 4,
 "nbformat_minor": 4
}
