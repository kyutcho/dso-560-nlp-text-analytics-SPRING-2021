{
 "cells": [
  {
   "cell_type": "markdown",
   "metadata": {},
   "source": [
    "## Classwork Week 4\n",
    "\n",
    "Please submit these answers as a notebook in a direct message on Slack to Yu Chen and Rajat Gaur. Please include all members of your group in the tagged message.\n",
    "\n",
    "\n",
    "## Example Search Engine Query\n",
    "\n",
    "There are four products in your store's inventory:\n",
    "\n",
    "Stopwords: `and`, `or`\n",
    "\n",
    "* Product A: `red satin and velvet hat`\n",
    "* Product B: `red or blue t-shirt and hat`\n",
    "* Product C: `t-shirt and hat`\n",
    "* Product D: `blue hat and velvet shoes`\n",
    "\n",
    "Assume that we lemmatize each token (ie. `shoes` -> `shoe`).\n",
    "\n",
    "1. After performing count vectorization on the dataset, list all of the distinct features. Assume a **unigram language model**.\n",
    "\n",
    "2. What is the shape of your feature matrix (dataframe)?\n",
    "\n",
    "3. Which **pair of products are the MOST similar**? Use cosine similarity to perform your calculation.\n",
    "\n",
    "4. A user searches for the term `blue shoes`. Write out what this search query would look like as a numeric vector.\n",
    "\n",
    "5. Construct the transition matrix for this dataset (the 4 products). Do not perform any stopword removal. You can just create this in Excel and attach it as a CSV file.\n",
    "\n",
    "6. Using this transition matrix, calculate the probability of $p(x_{i+1} = \"hat\" | x_{i} = \"and\")$"
   ]
  }
 ],
 "metadata": {
  "kernelspec": {
   "display_name": "Python 3",
   "language": "python",
   "name": "python3"
  },
  "language_info": {
   "codemirror_mode": {
    "name": "ipython",
    "version": 3
   },
   "file_extension": ".py",
   "mimetype": "text/x-python",
   "name": "python",
   "nbconvert_exporter": "python",
   "pygments_lexer": "ipython3",
   "version": "3.8.3"
  },
  "toc": {
   "base_numbering": 1,
   "nav_menu": {},
   "number_sections": true,
   "sideBar": true,
   "skip_h1_title": false,
   "title_cell": "Table of Contents",
   "title_sidebar": "Contents",
   "toc_cell": false,
   "toc_position": {},
   "toc_section_display": true,
   "toc_window_display": false
  }
 },
 "nbformat": 4,
 "nbformat_minor": 5
}
