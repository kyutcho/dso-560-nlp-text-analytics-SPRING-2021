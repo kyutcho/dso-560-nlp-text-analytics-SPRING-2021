{
 "cells": [
  {
   "cell_type": "markdown",
   "metadata": {},
   "source": [
    "Write the code to Identify all dollar values ($2.99) and time references (11:43pm) using named capture groups in the poor amazon dataset."
   ]
  },
  {
   "cell_type": "code",
   "execution_count": 18,
   "metadata": {},
   "outputs": [],
   "source": [
    "import pandas as pd\n",
    "import re"
   ]
  },
  {
   "cell_type": "code",
   "execution_count": 19,
   "metadata": {},
   "outputs": [],
   "source": [
    "with open(\"poor_amazon_toy_reviews.txt\",'r', encoding=\"utf8\") as fh:\n",
    "     amz_poor_reviews = fh.readlines()"
   ]
  },
  {
   "cell_type": "code",
   "execution_count": 20,
   "metadata": {},
   "outputs": [],
   "source": [
    "regex_pattern_1 = \"(?P<hour>[0|1]?\\d):(?P<minute>[0-5]\\d)\\s?(?P<indicator>:am|pm)\""
   ]
  },
  {
   "cell_type": "code",
   "execution_count": 21,
   "metadata": {},
   "outputs": [],
   "source": [
    "regex_pattern_2 = \"(?P<indicator>\\$|(?:USD))(?P<dollar>[0-9]+)\\.(?P<decimal>[0-9][0-9])\""
   ]
  },
  {
   "cell_type": "code",
   "execution_count": 22,
   "metadata": {},
   "outputs": [],
   "source": [
    "for review in amz_poor_reviews:\n",
    "    match = re.search(regex_pattern_1, review)\n",
    "    if match:\n",
    "        print(match.groupdict())"
   ]
  },
  {
   "cell_type": "code",
   "execution_count": 23,
   "metadata": {
    "scrolled": false
   },
   "outputs": [
    {
     "name": "stdout",
     "output_type": "stream",
     "text": [
      "{'indicator': '$', 'dollar': '10', 'decimal': '00'}\n",
      "{'indicator': '$', 'dollar': '753', 'decimal': '00'}\n",
      "{'indicator': '$', 'dollar': '9', 'decimal': '99'}\n",
      "{'indicator': '$', 'dollar': '3', 'decimal': '18'}\n",
      "{'indicator': '$', 'dollar': '250', 'decimal': '00'}\n",
      "{'indicator': '$', 'dollar': '19', 'decimal': '99'}\n",
      "{'indicator': '$', 'dollar': '7', 'decimal': '00'}\n",
      "{'indicator': '$', 'dollar': '9', 'decimal': '80'}\n",
      "{'indicator': '$', 'dollar': '7', 'decimal': '00'}\n",
      "{'indicator': '$', 'dollar': '12', 'decimal': '99'}\n",
      "{'indicator': '$', 'dollar': '2', 'decimal': '99'}\n",
      "{'indicator': '$', 'dollar': '43', 'decimal': '98'}\n",
      "{'indicator': '$', 'dollar': '1', 'decimal': '00'}\n",
      "{'indicator': '$', 'dollar': '19', 'decimal': '99'}\n",
      "{'indicator': '$', 'dollar': '10', 'decimal': '00'}\n",
      "{'indicator': '$', 'dollar': '35', 'decimal': '98'}\n",
      "{'indicator': '$', 'dollar': '7', 'decimal': '71'}\n",
      "{'indicator': '$', 'dollar': '89', 'decimal': '99'}\n",
      "{'indicator': '$', 'dollar': '27', 'decimal': '97'}\n",
      "{'indicator': '$', 'dollar': '1', 'decimal': '00'}\n",
      "{'indicator': '$', 'dollar': '5', 'decimal': '00'}\n",
      "{'indicator': '$', 'dollar': '8', 'decimal': '00'}\n",
      "{'indicator': '$', 'dollar': '5', 'decimal': '00'}\n",
      "{'indicator': '$', 'dollar': '8', 'decimal': '00'}\n",
      "{'indicator': '$', 'dollar': '16', 'decimal': '99'}\n",
      "{'indicator': '$', 'dollar': '30', 'decimal': '00'}\n",
      "{'indicator': '$', 'dollar': '11', 'decimal': '50'}\n",
      "{'indicator': '$', 'dollar': '15', 'decimal': '00'}\n",
      "{'indicator': '$', 'dollar': '12', 'decimal': '00'}\n",
      "{'indicator': '$', 'dollar': '27', 'decimal': '99'}\n",
      "{'indicator': '$', 'dollar': '29', 'decimal': '99'}\n",
      "{'indicator': '$', 'dollar': '40', 'decimal': '00'}\n",
      "{'indicator': '$', 'dollar': '22', 'decimal': '00'}\n",
      "{'indicator': '$', 'dollar': '1', 'decimal': '68'}\n",
      "{'indicator': '$', 'dollar': '60', 'decimal': '00'}\n",
      "{'indicator': '$', 'dollar': '9', 'decimal': '30'}\n",
      "{'indicator': '$', 'dollar': '10', 'decimal': '99'}\n",
      "{'indicator': '$', 'dollar': '5', 'decimal': '25'}\n",
      "{'indicator': '$', 'dollar': '8', 'decimal': '99'}\n",
      "{'indicator': '$', 'dollar': '2', 'decimal': '89'}\n",
      "{'indicator': '$', 'dollar': '0', 'decimal': '50'}\n",
      "{'indicator': '$', 'dollar': '8', 'decimal': '00'}\n",
      "{'indicator': '$', 'dollar': '5', 'decimal': '00'}\n",
      "{'indicator': '$', 'dollar': '5', 'decimal': '00'}\n",
      "{'indicator': '$', 'dollar': '0', 'decimal': '99'}\n",
      "{'indicator': '$', 'dollar': '1', 'decimal': '05'}\n",
      "{'indicator': '$', 'dollar': '6', 'decimal': '00'}\n",
      "{'indicator': '$', 'dollar': '5', 'decimal': '00'}\n",
      "{'indicator': '$', 'dollar': '1', 'decimal': '00'}\n",
      "{'indicator': '$', 'dollar': '9', 'decimal': '75'}\n",
      "{'indicator': '$', 'dollar': '5', 'decimal': '00'}\n",
      "{'indicator': '$', 'dollar': '6', 'decimal': '95'}\n",
      "{'indicator': '$', 'dollar': '5', 'decimal': '00'}\n",
      "{'indicator': '$', 'dollar': '11', 'decimal': '99'}\n",
      "{'indicator': '$', 'dollar': '196', 'decimal': '69'}\n",
      "{'indicator': '$', 'dollar': '32', 'decimal': '99'}\n",
      "{'indicator': '$', 'dollar': '4', 'decimal': '99'}\n",
      "{'indicator': '$', 'dollar': '32', 'decimal': '99'}\n",
      "{'indicator': '$', 'dollar': '1', 'decimal': '00'}\n",
      "{'indicator': '$', 'dollar': '30', 'decimal': '00'}\n",
      "{'indicator': '$', 'dollar': '6', 'decimal': '95'}\n",
      "{'indicator': '$', 'dollar': '14', 'decimal': '73'}\n",
      "{'indicator': '$', 'dollar': '25', 'decimal': '00'}\n",
      "{'indicator': '$', 'dollar': '699', 'decimal': '99'}\n",
      "{'indicator': '$', 'dollar': '5', 'decimal': '50'}\n",
      "{'indicator': '$', 'dollar': '13', 'decimal': '46'}\n",
      "{'indicator': '$', 'dollar': '5', 'decimal': '00'}\n",
      "{'indicator': '$', 'dollar': '15', 'decimal': '00'}\n",
      "{'indicator': '$', 'dollar': '1', 'decimal': '99'}\n",
      "{'indicator': '$', 'dollar': '4', 'decimal': '99'}\n",
      "{'indicator': '$', 'dollar': '42', 'decimal': '00'}\n",
      "{'indicator': '$', 'dollar': '9', 'decimal': '99'}\n",
      "{'indicator': '$', 'dollar': '5', 'decimal': '99'}\n",
      "{'indicator': '$', 'dollar': '3', 'decimal': '43'}\n",
      "{'indicator': '$', 'dollar': '2', 'decimal': '99'}\n",
      "{'indicator': '$', 'dollar': '22', 'decimal': '00'}\n",
      "{'indicator': '$', 'dollar': '3', 'decimal': '70'}\n",
      "{'indicator': '$', 'dollar': '15', 'decimal': '95'}\n",
      "{'indicator': '$', 'dollar': '175', 'decimal': '00'}\n",
      "{'indicator': '$', 'dollar': '14', 'decimal': '95'}\n",
      "{'indicator': '$', 'dollar': '369', 'decimal': '00'}\n",
      "{'indicator': '$', 'dollar': '10', 'decimal': '00'}\n",
      "{'indicator': '$', 'dollar': '6', 'decimal': '99'}\n",
      "{'indicator': '$', 'dollar': '6', 'decimal': '99'}\n",
      "{'indicator': '$', 'dollar': '37', 'decimal': '00'}\n",
      "{'indicator': '$', 'dollar': '1', 'decimal': '75'}\n",
      "{'indicator': '$', 'dollar': '4', 'decimal': '99'}\n",
      "{'indicator': '$', 'dollar': '16', 'decimal': '00'}\n",
      "{'indicator': '$', 'dollar': '15', 'decimal': '36'}\n",
      "{'indicator': '$', 'dollar': '30', 'decimal': '00'}\n",
      "{'indicator': '$', 'dollar': '13', 'decimal': '47'}\n",
      "{'indicator': '$', 'dollar': '129', 'decimal': '00'}\n",
      "{'indicator': '$', 'dollar': '19', 'decimal': '95'}\n",
      "{'indicator': '$', 'dollar': '119', 'decimal': '00'}\n",
      "{'indicator': '$', 'dollar': '37', 'decimal': '00'}\n",
      "{'indicator': '$', 'dollar': '24', 'decimal': '99'}\n",
      "{'indicator': '$', 'dollar': '3', 'decimal': '00'}\n",
      "{'indicator': '$', 'dollar': '12', 'decimal': '00'}\n",
      "{'indicator': '$', 'dollar': '4', 'decimal': '49'}\n",
      "{'indicator': '$', 'dollar': '46', 'decimal': '95'}\n",
      "{'indicator': '$', 'dollar': '5', 'decimal': '00'}\n",
      "{'indicator': '$', 'dollar': '23', 'decimal': '00'}\n",
      "{'indicator': '$', 'dollar': '40', 'decimal': '00'}\n",
      "{'indicator': '$', 'dollar': '10', 'decimal': '00'}\n",
      "{'indicator': '$', 'dollar': '19', 'decimal': '99'}\n",
      "{'indicator': '$', 'dollar': '12', 'decimal': '99'}\n",
      "{'indicator': '$', 'dollar': '4', 'decimal': '99'}\n",
      "{'indicator': '$', 'dollar': '2', 'decimal': '95'}\n",
      "{'indicator': '$', 'dollar': '49', 'decimal': '99'}\n",
      "{'indicator': '$', 'dollar': '10', 'decimal': '00'}\n",
      "{'indicator': '$', 'dollar': '2', 'decimal': '99'}\n",
      "{'indicator': '$', 'dollar': '8', 'decimal': '99'}\n",
      "{'indicator': '$', 'dollar': '16', 'decimal': '00'}\n",
      "{'indicator': '$', 'dollar': '50', 'decimal': '00'}\n",
      "{'indicator': '$', 'dollar': '8', 'decimal': '00'}\n",
      "{'indicator': '$', 'dollar': '6', 'decimal': '99'}\n",
      "{'indicator': '$', 'dollar': '19', 'decimal': '99'}\n",
      "{'indicator': '$', 'dollar': '150', 'decimal': '00'}\n",
      "{'indicator': '$', 'dollar': '5', 'decimal': '00'}\n",
      "{'indicator': '$', 'dollar': '8', 'decimal': '00'}\n",
      "{'indicator': '$', 'dollar': '19', 'decimal': '00'}\n",
      "{'indicator': '$', 'dollar': '23', 'decimal': '00'}\n",
      "{'indicator': '$', 'dollar': '9', 'decimal': '98'}\n"
     ]
    }
   ],
   "source": [
    "for review in amz_poor_reviews:\n",
    "    match = re.search(regex_pattern_2, review)\n",
    "    if match:\n",
    "        print(match.groupdict())"
   ]
  },
  {
   "cell_type": "code",
   "execution_count": null,
   "metadata": {},
   "outputs": [],
   "source": []
  }
 ],
 "metadata": {
  "kernelspec": {
   "display_name": "Python 3",
   "language": "python",
   "name": "python3"
  },
  "language_info": {
   "codemirror_mode": {
    "name": "ipython",
    "version": 3
   },
   "file_extension": ".py",
   "mimetype": "text/x-python",
   "name": "python",
   "nbconvert_exporter": "python",
   "pygments_lexer": "ipython3",
   "version": "3.8.5"
  }
 },
 "nbformat": 4,
 "nbformat_minor": 4
}
